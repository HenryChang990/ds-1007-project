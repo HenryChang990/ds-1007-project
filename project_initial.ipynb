{
 "metadata": {
  "name": "",
  "signature": "sha256:a9da9206d7a36f04bff5f32f342393b62e7a51b6da62c621557db190db24827a"
 },
 "nbformat": 3,
 "nbformat_minor": 0,
 "worksheets": [
  {
   "cells": [
    {
     "cell_type": "code",
     "collapsed": false,
     "input": [
      "import pandas as pd\n",
      "import matplotlib.pyplot as plt\n",
      "import numpy as np"
     ],
     "language": "python",
     "metadata": {},
     "outputs": [],
     "prompt_number": 1
    },
    {
     "cell_type": "code",
     "collapsed": false,
     "input": [
      "s_year = xrange(2000, 2016)"
     ],
     "language": "python",
     "metadata": {},
     "outputs": [],
     "prompt_number": 2
    },
    {
     "cell_type": "code",
     "collapsed": false,
     "input": [
      "dfs = {year:pd.read_csv(\"data/salaries_\"+str(year)+\".csv\", index_col='PLAYER').dropna() for year in s_year}"
     ],
     "language": "python",
     "metadata": {},
     "outputs": [],
     "prompt_number": 34
    },
    {
     "cell_type": "code",
     "collapsed": false,
     "input": [
      "#%cd ds-1007-project/"
     ],
     "language": "python",
     "metadata": {},
     "outputs": [
      {
       "output_type": "stream",
       "stream": "stdout",
       "text": [
        "/Users/liuyi/Desktop/1007project/ds-1007-project\n"
       ]
      }
     ],
     "prompt_number": 28
    },
    {
     "cell_type": "code",
     "collapsed": false,
     "input": [
      "salaries = {yr:df['SALARY'] for yr,df in dfs.iteritems()}"
     ],
     "language": "python",
     "metadata": {},
     "outputs": [],
     "prompt_number": 89
    },
    {
     "cell_type": "code",
     "collapsed": false,
     "input": [],
     "language": "python",
     "metadata": {},
     "outputs": [],
     "prompt_number": 131
    },
    {
     "cell_type": "code",
     "collapsed": false,
     "input": [
      "#pd.merge(dfs[2001],dfs[2000],left_index=True, right_index=True, how='outer')\n",
      "pd.concat(dfs, axis=1, join='inner')"
     ],
     "language": "python",
     "metadata": {},
     "outputs": [
      {
       "html": [
        "<div style=\"max-height:1000px;max-width:1500px;overflow:auto;\">\n",
        "<table border=\"1\" class=\"dataframe\">\n",
        "  <thead>\n",
        "    <tr>\n",
        "      <th></th>\n",
        "      <th colspan=\"4\" halign=\"left\">2000</th>\n",
        "      <th colspan=\"4\" halign=\"left\">2001</th>\n",
        "      <th colspan=\"2\" halign=\"left\">2002</th>\n",
        "      <th>...</th>\n",
        "      <th colspan=\"2\" halign=\"left\">2013</th>\n",
        "      <th colspan=\"4\" halign=\"left\">2014</th>\n",
        "      <th colspan=\"4\" halign=\"left\">2015</th>\n",
        "    </tr>\n",
        "    <tr>\n",
        "      <th></th>\n",
        "      <th>RK</th>\n",
        "      <th>POS</th>\n",
        "      <th>TEAM</th>\n",
        "      <th>SALARY</th>\n",
        "      <th>RK</th>\n",
        "      <th>POS</th>\n",
        "      <th>TEAM</th>\n",
        "      <th>SALARY</th>\n",
        "      <th>RK</th>\n",
        "      <th>POS</th>\n",
        "      <th>...</th>\n",
        "      <th>TEAM</th>\n",
        "      <th>SALARY</th>\n",
        "      <th>RK</th>\n",
        "      <th>POS</th>\n",
        "      <th>TEAM</th>\n",
        "      <th>SALARY</th>\n",
        "      <th>RK</th>\n",
        "      <th>POS</th>\n",
        "      <th>TEAM</th>\n",
        "      <th>SALARY</th>\n",
        "    </tr>\n",
        "    <tr>\n",
        "      <th>PLAYER</th>\n",
        "      <th></th>\n",
        "      <th></th>\n",
        "      <th></th>\n",
        "      <th></th>\n",
        "      <th></th>\n",
        "      <th></th>\n",
        "      <th></th>\n",
        "      <th></th>\n",
        "      <th></th>\n",
        "      <th></th>\n",
        "      <th></th>\n",
        "      <th></th>\n",
        "      <th></th>\n",
        "      <th></th>\n",
        "      <th></th>\n",
        "      <th></th>\n",
        "      <th></th>\n",
        "      <th></th>\n",
        "      <th></th>\n",
        "      <th></th>\n",
        "      <th></th>\n",
        "    </tr>\n",
        "  </thead>\n",
        "  <tbody>\n",
        "    <tr>\n",
        "      <th>Vince Carter</th>\n",
        "      <td> 94</td>\n",
        "      <td> SG</td>\n",
        "      <td>  Toronto Raptors</td>\n",
        "      <td> 2267000</td>\n",
        "      <td> 164</td>\n",
        "      <td> SG</td>\n",
        "      <td>  Toronto Raptors</td>\n",
        "      <td> 2425000</td>\n",
        "      <td> 143</td>\n",
        "      <td> SG</td>\n",
        "      <td>...</td>\n",
        "      <td>   Dallas Mavericks</td>\n",
        "      <td> 3090000</td>\n",
        "      <td> 178</td>\n",
        "      <td> SG</td>\n",
        "      <td>   Dallas Mavericks</td>\n",
        "      <td> 3180000</td>\n",
        "      <td> 165</td>\n",
        "      <td> SG</td>\n",
        "      <td>  Memphis Grizzlies</td>\n",
        "      <td> 3911981</td>\n",
        "    </tr>\n",
        "    <tr>\n",
        "      <th>Steve Nash</th>\n",
        "      <td> 34</td>\n",
        "      <td> PG</td>\n",
        "      <td> Dallas Mavericks</td>\n",
        "      <td> 5500000</td>\n",
        "      <td>  75</td>\n",
        "      <td> PG</td>\n",
        "      <td> Dallas Mavericks</td>\n",
        "      <td> 5500000</td>\n",
        "      <td>  64</td>\n",
        "      <td> PG</td>\n",
        "      <td>...</td>\n",
        "      <td> Los Angeles Lakers</td>\n",
        "      <td> 9300500</td>\n",
        "      <td>  61</td>\n",
        "      <td> PG</td>\n",
        "      <td> Los Angeles Lakers</td>\n",
        "      <td> 9300500</td>\n",
        "      <td>  61</td>\n",
        "      <td> PG</td>\n",
        "      <td> Los Angeles Lakers</td>\n",
        "      <td> 9701000</td>\n",
        "    </tr>\n",
        "  </tbody>\n",
        "</table>\n",
        "<p>2 rows \u00d7 64 columns</p>\n",
        "</div>"
       ],
       "metadata": {},
       "output_type": "pyout",
       "prompt_number": 133,
       "text": [
        "              2000 2000                       2000  2001 2001  \\\n",
        "                RK  POS              TEAM   SALARY    RK  POS   \n",
        "PLAYER                                                          \n",
        "Vince Carter    94   SG   Toronto Raptors  2267000   164   SG   \n",
        "Steve Nash      34   PG  Dallas Mavericks  5500000    75   PG   \n",
        "\n",
        "                                   2001  2002 2002 ...                 2013  \\\n",
        "                          TEAM   SALARY    RK  POS ...                 TEAM   \n",
        "PLAYER                                             ...                        \n",
        "Vince Carter   Toronto Raptors  2425000   143   SG ...     Dallas Mavericks   \n",
        "Steve Nash    Dallas Mavericks  5500000    64   PG ...   Los Angeles Lakers   \n",
        "\n",
        "                 2013  2014 2014                         2014  2015 2015  \\\n",
        "               SALARY    RK  POS                TEAM   SALARY    RK  POS   \n",
        "PLAYER                                                                     \n",
        "Vince Carter  3090000   178   SG    Dallas Mavericks  3180000   165   SG   \n",
        "Steve Nash    9300500    61   PG  Los Angeles Lakers  9300500    61   PG   \n",
        "\n",
        "                                     2015  \n",
        "                            TEAM   SALARY  \n",
        "PLAYER                                     \n",
        "Vince Carter   Memphis Grizzlies  3911981  \n",
        "Steve Nash    Los Angeles Lakers  9701000  \n",
        "\n",
        "[2 rows x 64 columns]"
       ]
      }
     ],
     "prompt_number": 133
    },
    {
     "cell_type": "code",
     "collapsed": false,
     "input": [],
     "language": "python",
     "metadata": {},
     "outputs": [],
     "prompt_number": 133
    },
    {
     "cell_type": "code",
     "collapsed": false,
     "input": [],
     "language": "python",
     "metadata": {},
     "outputs": [],
     "prompt_number": 52
    },
    {
     "cell_type": "code",
     "collapsed": false,
     "input": [],
     "language": "python",
     "metadata": {},
     "outputs": []
    }
   ],
   "metadata": {}
  }
 ]
}